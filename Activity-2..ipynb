{
 "cells": [
  {
   "cell_type": "markdown",
   "id": "ca276d42-9601-423c-92c3-925ab0ea7ced",
   "metadata": {},
   "source": [
    "<h1>Activity 2: UK ROAD ACCIDENT</h1>\n",
    "<hr/>\n",
    "<h3>Analyst: Edwin Viñas</h3>"
   ]
  },
  {
   "cell_type": "markdown",
   "id": "04eff999-1135-4a37-9b78-e628b4dc76fc",
   "metadata": {},
   "source": [
    "<h1>Import Libraries</h1>"
   ]
  },
  {
   "cell_type": "code",
   "execution_count": 136,
   "id": "dac422bc-c573-4b93-a34c-de0db1f2330b",
   "metadata": {},
   "outputs": [],
   "source": [
    "import numpy as np\n",
    "import pandas as pd\n",
    "import warnings\n",
    "import seaborn as sns\n",
    "import matplotlib.pyplot as plt\n",
    "import pandas as pd\n",
    "warnings.filterwarnings('ignore')"
   ]
  },
  {
   "cell_type": "markdown",
   "id": "f5eada71-5ef8-48a8-bfd2-e7cae433608d",
   "metadata": {},
   "source": [
    "<h1>Convert the DataSet into DataFrame</h1>"
   ]
  },
  {
   "cell_type": "code",
   "execution_count": 66,
   "id": "835facc6-8ef4-4865-931b-40a846b95ddc",
   "metadata": {},
   "outputs": [],
   "source": [
    "accident = pd.read_csv(\"datasets//uk_road_accident.csv\")"
   ]
  },
  {
   "cell_type": "code",
   "execution_count": 67,
   "id": "a2382119-39a0-4d02-b9c9-1965ddb6713e",
   "metadata": {},
   "outputs": [
    {
     "data": {
      "text/html": [
       "<div>\n",
       "<style scoped>\n",
       "    .dataframe tbody tr th:only-of-type {\n",
       "        vertical-align: middle;\n",
       "    }\n",
       "\n",
       "    .dataframe tbody tr th {\n",
       "        vertical-align: top;\n",
       "    }\n",
       "\n",
       "    .dataframe thead th {\n",
       "        text-align: right;\n",
       "    }\n",
       "</style>\n",
       "<table border=\"1\" class=\"dataframe\">\n",
       "  <thead>\n",
       "    <tr style=\"text-align: right;\">\n",
       "      <th></th>\n",
       "      <th>Index</th>\n",
       "      <th>Accident_Severity</th>\n",
       "      <th>Accident Date</th>\n",
       "      <th>Latitude</th>\n",
       "      <th>Light_Conditions</th>\n",
       "      <th>District Area</th>\n",
       "      <th>Longitude</th>\n",
       "      <th>Number_of_Casualties</th>\n",
       "      <th>Number_of_Vehicles</th>\n",
       "      <th>Road_Surface_Conditions</th>\n",
       "      <th>Road_Type</th>\n",
       "      <th>Urban_or_Rural_Area</th>\n",
       "      <th>Weather_Conditions</th>\n",
       "      <th>Vehicle_Type</th>\n",
       "    </tr>\n",
       "  </thead>\n",
       "  <tbody>\n",
       "    <tr>\n",
       "      <th>0</th>\n",
       "      <td>200701BS64157</td>\n",
       "      <td>Serious</td>\n",
       "      <td>5/6/2019</td>\n",
       "      <td>51.506187</td>\n",
       "      <td>Darkness - lights lit</td>\n",
       "      <td>Kensington and Chelsea</td>\n",
       "      <td>-0.209082</td>\n",
       "      <td>1</td>\n",
       "      <td>2</td>\n",
       "      <td>Dry</td>\n",
       "      <td>Single carriageway</td>\n",
       "      <td>Urban</td>\n",
       "      <td>Fine no high winds</td>\n",
       "      <td>Car</td>\n",
       "    </tr>\n",
       "    <tr>\n",
       "      <th>1</th>\n",
       "      <td>200701BS65737</td>\n",
       "      <td>Serious</td>\n",
       "      <td>2/7/2019</td>\n",
       "      <td>51.495029</td>\n",
       "      <td>Daylight</td>\n",
       "      <td>Kensington and Chelsea</td>\n",
       "      <td>-0.173647</td>\n",
       "      <td>1</td>\n",
       "      <td>2</td>\n",
       "      <td>Wet or damp</td>\n",
       "      <td>Single carriageway</td>\n",
       "      <td>Urban</td>\n",
       "      <td>Raining no high winds</td>\n",
       "      <td>Car</td>\n",
       "    </tr>\n",
       "    <tr>\n",
       "      <th>2</th>\n",
       "      <td>200701BS66127</td>\n",
       "      <td>Serious</td>\n",
       "      <td>26-08-2019</td>\n",
       "      <td>51.517715</td>\n",
       "      <td>Darkness - lighting unknown</td>\n",
       "      <td>Kensington and Chelsea</td>\n",
       "      <td>-0.210215</td>\n",
       "      <td>1</td>\n",
       "      <td>3</td>\n",
       "      <td>Dry</td>\n",
       "      <td>NaN</td>\n",
       "      <td>Urban</td>\n",
       "      <td>NaN</td>\n",
       "      <td>Taxi/Private hire car</td>\n",
       "    </tr>\n",
       "    <tr>\n",
       "      <th>3</th>\n",
       "      <td>200701BS66128</td>\n",
       "      <td>Serious</td>\n",
       "      <td>16-08-2019</td>\n",
       "      <td>51.495478</td>\n",
       "      <td>Daylight</td>\n",
       "      <td>Kensington and Chelsea</td>\n",
       "      <td>-0.202731</td>\n",
       "      <td>1</td>\n",
       "      <td>4</td>\n",
       "      <td>Dry</td>\n",
       "      <td>Single carriageway</td>\n",
       "      <td>Urban</td>\n",
       "      <td>Fine no high winds</td>\n",
       "      <td>Bus or coach (17 or more pass seats)</td>\n",
       "    </tr>\n",
       "    <tr>\n",
       "      <th>4</th>\n",
       "      <td>200701BS66837</td>\n",
       "      <td>Slight</td>\n",
       "      <td>3/9/2019</td>\n",
       "      <td>51.488576</td>\n",
       "      <td>Darkness - lights lit</td>\n",
       "      <td>Kensington and Chelsea</td>\n",
       "      <td>-0.192487</td>\n",
       "      <td>1</td>\n",
       "      <td>2</td>\n",
       "      <td>Dry</td>\n",
       "      <td>NaN</td>\n",
       "      <td>Urban</td>\n",
       "      <td>NaN</td>\n",
       "      <td>Other vehicle</td>\n",
       "    </tr>\n",
       "    <tr>\n",
       "      <th>...</th>\n",
       "      <td>...</td>\n",
       "      <td>...</td>\n",
       "      <td>...</td>\n",
       "      <td>...</td>\n",
       "      <td>...</td>\n",
       "      <td>...</td>\n",
       "      <td>...</td>\n",
       "      <td>...</td>\n",
       "      <td>...</td>\n",
       "      <td>...</td>\n",
       "      <td>...</td>\n",
       "      <td>...</td>\n",
       "      <td>...</td>\n",
       "      <td>...</td>\n",
       "    </tr>\n",
       "    <tr>\n",
       "      <th>660674</th>\n",
       "      <td>201091NM01760</td>\n",
       "      <td>Slight</td>\n",
       "      <td>18-02-2022</td>\n",
       "      <td>57.374005</td>\n",
       "      <td>Daylight</td>\n",
       "      <td>Highland</td>\n",
       "      <td>-3.467828</td>\n",
       "      <td>2</td>\n",
       "      <td>1</td>\n",
       "      <td>Dry</td>\n",
       "      <td>Single carriageway</td>\n",
       "      <td>Rural</td>\n",
       "      <td>Fine no high winds</td>\n",
       "      <td>Car</td>\n",
       "    </tr>\n",
       "    <tr>\n",
       "      <th>660675</th>\n",
       "      <td>201091NM01881</td>\n",
       "      <td>Slight</td>\n",
       "      <td>21-02-2022</td>\n",
       "      <td>57.232273</td>\n",
       "      <td>Darkness - no lighting</td>\n",
       "      <td>Highland</td>\n",
       "      <td>-3.809281</td>\n",
       "      <td>1</td>\n",
       "      <td>1</td>\n",
       "      <td>Frost or ice</td>\n",
       "      <td>Single carriageway</td>\n",
       "      <td>Rural</td>\n",
       "      <td>Fine no high winds</td>\n",
       "      <td>Car</td>\n",
       "    </tr>\n",
       "    <tr>\n",
       "      <th>660676</th>\n",
       "      <td>201091NM01935</td>\n",
       "      <td>Slight</td>\n",
       "      <td>23-02-2022</td>\n",
       "      <td>57.585044</td>\n",
       "      <td>Daylight</td>\n",
       "      <td>Highland</td>\n",
       "      <td>-3.862727</td>\n",
       "      <td>1</td>\n",
       "      <td>3</td>\n",
       "      <td>Frost or ice</td>\n",
       "      <td>Single carriageway</td>\n",
       "      <td>Rural</td>\n",
       "      <td>Fine no high winds</td>\n",
       "      <td>Car</td>\n",
       "    </tr>\n",
       "    <tr>\n",
       "      <th>660677</th>\n",
       "      <td>201091NM01964</td>\n",
       "      <td>Serious</td>\n",
       "      <td>23-02-2022</td>\n",
       "      <td>57.214898</td>\n",
       "      <td>Darkness - no lighting</td>\n",
       "      <td>Highland</td>\n",
       "      <td>-3.823997</td>\n",
       "      <td>1</td>\n",
       "      <td>2</td>\n",
       "      <td>Wet or damp</td>\n",
       "      <td>Single carriageway</td>\n",
       "      <td>Rural</td>\n",
       "      <td>Fine no high winds</td>\n",
       "      <td>Motorcycle over 500cc</td>\n",
       "    </tr>\n",
       "    <tr>\n",
       "      <th>660678</th>\n",
       "      <td>201091NM02142</td>\n",
       "      <td>Serious</td>\n",
       "      <td>28-02-2022</td>\n",
       "      <td>57.575210</td>\n",
       "      <td>Daylight</td>\n",
       "      <td>Highland</td>\n",
       "      <td>-3.895673</td>\n",
       "      <td>1</td>\n",
       "      <td>1</td>\n",
       "      <td>Wet or damp</td>\n",
       "      <td>Dual carriageway</td>\n",
       "      <td>Rural</td>\n",
       "      <td>Snowing no high winds</td>\n",
       "      <td>Car</td>\n",
       "    </tr>\n",
       "  </tbody>\n",
       "</table>\n",
       "<p>660679 rows × 14 columns</p>\n",
       "</div>"
      ],
      "text/plain": [
       "                Index Accident_Severity Accident Date   Latitude  \\\n",
       "0       200701BS64157           Serious      5/6/2019  51.506187   \n",
       "1       200701BS65737           Serious      2/7/2019  51.495029   \n",
       "2       200701BS66127           Serious    26-08-2019  51.517715   \n",
       "3       200701BS66128           Serious    16-08-2019  51.495478   \n",
       "4       200701BS66837            Slight      3/9/2019  51.488576   \n",
       "...               ...               ...           ...        ...   \n",
       "660674  201091NM01760            Slight    18-02-2022  57.374005   \n",
       "660675  201091NM01881            Slight    21-02-2022  57.232273   \n",
       "660676  201091NM01935            Slight    23-02-2022  57.585044   \n",
       "660677  201091NM01964           Serious    23-02-2022  57.214898   \n",
       "660678  201091NM02142           Serious    28-02-2022  57.575210   \n",
       "\n",
       "                   Light_Conditions           District Area  Longitude  \\\n",
       "0             Darkness - lights lit  Kensington and Chelsea  -0.209082   \n",
       "1                          Daylight  Kensington and Chelsea  -0.173647   \n",
       "2       Darkness - lighting unknown  Kensington and Chelsea  -0.210215   \n",
       "3                          Daylight  Kensington and Chelsea  -0.202731   \n",
       "4             Darkness - lights lit  Kensington and Chelsea  -0.192487   \n",
       "...                             ...                     ...        ...   \n",
       "660674                     Daylight                Highland  -3.467828   \n",
       "660675       Darkness - no lighting                Highland  -3.809281   \n",
       "660676                     Daylight                Highland  -3.862727   \n",
       "660677       Darkness - no lighting                Highland  -3.823997   \n",
       "660678                     Daylight                Highland  -3.895673   \n",
       "\n",
       "        Number_of_Casualties  Number_of_Vehicles Road_Surface_Conditions  \\\n",
       "0                          1                   2                     Dry   \n",
       "1                          1                   2             Wet or damp   \n",
       "2                          1                   3                     Dry   \n",
       "3                          1                   4                     Dry   \n",
       "4                          1                   2                     Dry   \n",
       "...                      ...                 ...                     ...   \n",
       "660674                     2                   1                     Dry   \n",
       "660675                     1                   1            Frost or ice   \n",
       "660676                     1                   3            Frost or ice   \n",
       "660677                     1                   2             Wet or damp   \n",
       "660678                     1                   1             Wet or damp   \n",
       "\n",
       "                 Road_Type Urban_or_Rural_Area     Weather_Conditions  \\\n",
       "0       Single carriageway               Urban     Fine no high winds   \n",
       "1       Single carriageway               Urban  Raining no high winds   \n",
       "2                      NaN               Urban                    NaN   \n",
       "3       Single carriageway               Urban     Fine no high winds   \n",
       "4                      NaN               Urban                    NaN   \n",
       "...                    ...                 ...                    ...   \n",
       "660674  Single carriageway               Rural     Fine no high winds   \n",
       "660675  Single carriageway               Rural     Fine no high winds   \n",
       "660676  Single carriageway               Rural     Fine no high winds   \n",
       "660677  Single carriageway               Rural     Fine no high winds   \n",
       "660678    Dual carriageway               Rural  Snowing no high winds   \n",
       "\n",
       "                                Vehicle_Type  \n",
       "0                                        Car  \n",
       "1                                        Car  \n",
       "2                      Taxi/Private hire car  \n",
       "3       Bus or coach (17 or more pass seats)  \n",
       "4                              Other vehicle  \n",
       "...                                      ...  \n",
       "660674                                   Car  \n",
       "660675                                   Car  \n",
       "660676                                   Car  \n",
       "660677                 Motorcycle over 500cc  \n",
       "660678                                   Car  \n",
       "\n",
       "[660679 rows x 14 columns]"
      ]
     },
     "execution_count": 67,
     "metadata": {},
     "output_type": "execute_result"
    }
   ],
   "source": [
    "accident"
   ]
  },
  {
   "cell_type": "code",
   "execution_count": 68,
   "id": "791cebd7-5c3c-474e-817c-13f111f1a93c",
   "metadata": {},
   "outputs": [
    {
     "data": {
      "text/plain": [
       "Index(['Index', 'Accident_Severity', 'Accident Date', 'Latitude',\n",
       "       'Light_Conditions', 'District Area', 'Longitude',\n",
       "       'Number_of_Casualties', 'Number_of_Vehicles', 'Road_Surface_Conditions',\n",
       "       'Road_Type', 'Urban_or_Rural_Area', 'Weather_Conditions',\n",
       "       'Vehicle_Type'],\n",
       "      dtype='object')"
      ]
     },
     "execution_count": 68,
     "metadata": {},
     "output_type": "execute_result"
    }
   ],
   "source": [
    "accident.columns"
   ]
  },
  {
   "cell_type": "markdown",
   "id": "c7dec68d-82d2-4a02-a998-db6bb62bcadb",
   "metadata": {},
   "source": [
    "<h1>Checking for Null Values</h1>"
   ]
  },
  {
   "cell_type": "code",
   "execution_count": 69,
   "id": "6befbc61-5c8e-4f55-a5de-0a684e051585",
   "metadata": {},
   "outputs": [
    {
     "data": {
      "text/html": [
       "<div>\n",
       "<style scoped>\n",
       "    .dataframe tbody tr th:only-of-type {\n",
       "        vertical-align: middle;\n",
       "    }\n",
       "\n",
       "    .dataframe tbody tr th {\n",
       "        vertical-align: top;\n",
       "    }\n",
       "\n",
       "    .dataframe thead th {\n",
       "        text-align: right;\n",
       "    }\n",
       "</style>\n",
       "<table border=\"1\" class=\"dataframe\">\n",
       "  <thead>\n",
       "    <tr style=\"text-align: right;\">\n",
       "      <th></th>\n",
       "      <th>Index</th>\n",
       "      <th>Accident_Severity</th>\n",
       "      <th>Accident Date</th>\n",
       "      <th>Latitude</th>\n",
       "      <th>Light_Conditions</th>\n",
       "      <th>District Area</th>\n",
       "      <th>Longitude</th>\n",
       "      <th>Number_of_Casualties</th>\n",
       "      <th>Number_of_Vehicles</th>\n",
       "      <th>Road_Surface_Conditions</th>\n",
       "      <th>Road_Type</th>\n",
       "      <th>Urban_or_Rural_Area</th>\n",
       "      <th>Weather_Conditions</th>\n",
       "      <th>Vehicle_Type</th>\n",
       "    </tr>\n",
       "  </thead>\n",
       "  <tbody>\n",
       "    <tr>\n",
       "      <th>0</th>\n",
       "      <td>False</td>\n",
       "      <td>False</td>\n",
       "      <td>False</td>\n",
       "      <td>False</td>\n",
       "      <td>False</td>\n",
       "      <td>False</td>\n",
       "      <td>False</td>\n",
       "      <td>False</td>\n",
       "      <td>False</td>\n",
       "      <td>False</td>\n",
       "      <td>False</td>\n",
       "      <td>False</td>\n",
       "      <td>False</td>\n",
       "      <td>False</td>\n",
       "    </tr>\n",
       "    <tr>\n",
       "      <th>1</th>\n",
       "      <td>False</td>\n",
       "      <td>False</td>\n",
       "      <td>False</td>\n",
       "      <td>False</td>\n",
       "      <td>False</td>\n",
       "      <td>False</td>\n",
       "      <td>False</td>\n",
       "      <td>False</td>\n",
       "      <td>False</td>\n",
       "      <td>False</td>\n",
       "      <td>False</td>\n",
       "      <td>False</td>\n",
       "      <td>False</td>\n",
       "      <td>False</td>\n",
       "    </tr>\n",
       "    <tr>\n",
       "      <th>2</th>\n",
       "      <td>False</td>\n",
       "      <td>False</td>\n",
       "      <td>False</td>\n",
       "      <td>False</td>\n",
       "      <td>False</td>\n",
       "      <td>False</td>\n",
       "      <td>False</td>\n",
       "      <td>False</td>\n",
       "      <td>False</td>\n",
       "      <td>False</td>\n",
       "      <td>True</td>\n",
       "      <td>False</td>\n",
       "      <td>True</td>\n",
       "      <td>False</td>\n",
       "    </tr>\n",
       "    <tr>\n",
       "      <th>3</th>\n",
       "      <td>False</td>\n",
       "      <td>False</td>\n",
       "      <td>False</td>\n",
       "      <td>False</td>\n",
       "      <td>False</td>\n",
       "      <td>False</td>\n",
       "      <td>False</td>\n",
       "      <td>False</td>\n",
       "      <td>False</td>\n",
       "      <td>False</td>\n",
       "      <td>False</td>\n",
       "      <td>False</td>\n",
       "      <td>False</td>\n",
       "      <td>False</td>\n",
       "    </tr>\n",
       "    <tr>\n",
       "      <th>4</th>\n",
       "      <td>False</td>\n",
       "      <td>False</td>\n",
       "      <td>False</td>\n",
       "      <td>False</td>\n",
       "      <td>False</td>\n",
       "      <td>False</td>\n",
       "      <td>False</td>\n",
       "      <td>False</td>\n",
       "      <td>False</td>\n",
       "      <td>False</td>\n",
       "      <td>True</td>\n",
       "      <td>False</td>\n",
       "      <td>True</td>\n",
       "      <td>False</td>\n",
       "    </tr>\n",
       "    <tr>\n",
       "      <th>...</th>\n",
       "      <td>...</td>\n",
       "      <td>...</td>\n",
       "      <td>...</td>\n",
       "      <td>...</td>\n",
       "      <td>...</td>\n",
       "      <td>...</td>\n",
       "      <td>...</td>\n",
       "      <td>...</td>\n",
       "      <td>...</td>\n",
       "      <td>...</td>\n",
       "      <td>...</td>\n",
       "      <td>...</td>\n",
       "      <td>...</td>\n",
       "      <td>...</td>\n",
       "    </tr>\n",
       "    <tr>\n",
       "      <th>660674</th>\n",
       "      <td>False</td>\n",
       "      <td>False</td>\n",
       "      <td>False</td>\n",
       "      <td>False</td>\n",
       "      <td>False</td>\n",
       "      <td>False</td>\n",
       "      <td>False</td>\n",
       "      <td>False</td>\n",
       "      <td>False</td>\n",
       "      <td>False</td>\n",
       "      <td>False</td>\n",
       "      <td>False</td>\n",
       "      <td>False</td>\n",
       "      <td>False</td>\n",
       "    </tr>\n",
       "    <tr>\n",
       "      <th>660675</th>\n",
       "      <td>False</td>\n",
       "      <td>False</td>\n",
       "      <td>False</td>\n",
       "      <td>False</td>\n",
       "      <td>False</td>\n",
       "      <td>False</td>\n",
       "      <td>False</td>\n",
       "      <td>False</td>\n",
       "      <td>False</td>\n",
       "      <td>False</td>\n",
       "      <td>False</td>\n",
       "      <td>False</td>\n",
       "      <td>False</td>\n",
       "      <td>False</td>\n",
       "    </tr>\n",
       "    <tr>\n",
       "      <th>660676</th>\n",
       "      <td>False</td>\n",
       "      <td>False</td>\n",
       "      <td>False</td>\n",
       "      <td>False</td>\n",
       "      <td>False</td>\n",
       "      <td>False</td>\n",
       "      <td>False</td>\n",
       "      <td>False</td>\n",
       "      <td>False</td>\n",
       "      <td>False</td>\n",
       "      <td>False</td>\n",
       "      <td>False</td>\n",
       "      <td>False</td>\n",
       "      <td>False</td>\n",
       "    </tr>\n",
       "    <tr>\n",
       "      <th>660677</th>\n",
       "      <td>False</td>\n",
       "      <td>False</td>\n",
       "      <td>False</td>\n",
       "      <td>False</td>\n",
       "      <td>False</td>\n",
       "      <td>False</td>\n",
       "      <td>False</td>\n",
       "      <td>False</td>\n",
       "      <td>False</td>\n",
       "      <td>False</td>\n",
       "      <td>False</td>\n",
       "      <td>False</td>\n",
       "      <td>False</td>\n",
       "      <td>False</td>\n",
       "    </tr>\n",
       "    <tr>\n",
       "      <th>660678</th>\n",
       "      <td>False</td>\n",
       "      <td>False</td>\n",
       "      <td>False</td>\n",
       "      <td>False</td>\n",
       "      <td>False</td>\n",
       "      <td>False</td>\n",
       "      <td>False</td>\n",
       "      <td>False</td>\n",
       "      <td>False</td>\n",
       "      <td>False</td>\n",
       "      <td>False</td>\n",
       "      <td>False</td>\n",
       "      <td>False</td>\n",
       "      <td>False</td>\n",
       "    </tr>\n",
       "  </tbody>\n",
       "</table>\n",
       "<p>660679 rows × 14 columns</p>\n",
       "</div>"
      ],
      "text/plain": [
       "        Index  Accident_Severity  Accident Date  Latitude  Light_Conditions  \\\n",
       "0       False              False          False     False             False   \n",
       "1       False              False          False     False             False   \n",
       "2       False              False          False     False             False   \n",
       "3       False              False          False     False             False   \n",
       "4       False              False          False     False             False   \n",
       "...       ...                ...            ...       ...               ...   \n",
       "660674  False              False          False     False             False   \n",
       "660675  False              False          False     False             False   \n",
       "660676  False              False          False     False             False   \n",
       "660677  False              False          False     False             False   \n",
       "660678  False              False          False     False             False   \n",
       "\n",
       "        District Area  Longitude  Number_of_Casualties  Number_of_Vehicles  \\\n",
       "0               False      False                 False               False   \n",
       "1               False      False                 False               False   \n",
       "2               False      False                 False               False   \n",
       "3               False      False                 False               False   \n",
       "4               False      False                 False               False   \n",
       "...               ...        ...                   ...                 ...   \n",
       "660674          False      False                 False               False   \n",
       "660675          False      False                 False               False   \n",
       "660676          False      False                 False               False   \n",
       "660677          False      False                 False               False   \n",
       "660678          False      False                 False               False   \n",
       "\n",
       "        Road_Surface_Conditions  Road_Type  Urban_or_Rural_Area  \\\n",
       "0                         False      False                False   \n",
       "1                         False      False                False   \n",
       "2                         False       True                False   \n",
       "3                         False      False                False   \n",
       "4                         False       True                False   \n",
       "...                         ...        ...                  ...   \n",
       "660674                    False      False                False   \n",
       "660675                    False      False                False   \n",
       "660676                    False      False                False   \n",
       "660677                    False      False                False   \n",
       "660678                    False      False                False   \n",
       "\n",
       "        Weather_Conditions  Vehicle_Type  \n",
       "0                    False         False  \n",
       "1                    False         False  \n",
       "2                     True         False  \n",
       "3                    False         False  \n",
       "4                     True         False  \n",
       "...                    ...           ...  \n",
       "660674               False         False  \n",
       "660675               False         False  \n",
       "660676               False         False  \n",
       "660677               False         False  \n",
       "660678               False         False  \n",
       "\n",
       "[660679 rows x 14 columns]"
      ]
     },
     "execution_count": 69,
     "metadata": {},
     "output_type": "execute_result"
    }
   ],
   "source": [
    "accident.isnull()"
   ]
  },
  {
   "cell_type": "markdown",
   "id": "c1d37687-7789-41d6-89f4-a27ba9ff6526",
   "metadata": {},
   "source": [
    "<h1>Descriptive Analytics</h1>"
   ]
  },
  {
   "cell_type": "code",
   "execution_count": 70,
   "id": "4608eae4-1408-4b30-954f-0a04480a9d2b",
   "metadata": {},
   "outputs": [
    {
     "data": {
      "text/html": [
       "<div>\n",
       "<style scoped>\n",
       "    .dataframe tbody tr th:only-of-type {\n",
       "        vertical-align: middle;\n",
       "    }\n",
       "\n",
       "    .dataframe tbody tr th {\n",
       "        vertical-align: top;\n",
       "    }\n",
       "\n",
       "    .dataframe thead th {\n",
       "        text-align: right;\n",
       "    }\n",
       "</style>\n",
       "<table border=\"1\" class=\"dataframe\">\n",
       "  <thead>\n",
       "    <tr style=\"text-align: right;\">\n",
       "      <th></th>\n",
       "      <th>Latitude</th>\n",
       "      <th>Longitude</th>\n",
       "      <th>Number_of_Casualties</th>\n",
       "      <th>Number_of_Vehicles</th>\n",
       "    </tr>\n",
       "  </thead>\n",
       "  <tbody>\n",
       "    <tr>\n",
       "      <th>count</th>\n",
       "      <td>660654.000000</td>\n",
       "      <td>660653.000000</td>\n",
       "      <td>660679.000000</td>\n",
       "      <td>660679.000000</td>\n",
       "    </tr>\n",
       "    <tr>\n",
       "      <th>mean</th>\n",
       "      <td>52.553866</td>\n",
       "      <td>-1.431210</td>\n",
       "      <td>1.357040</td>\n",
       "      <td>1.831255</td>\n",
       "    </tr>\n",
       "    <tr>\n",
       "      <th>std</th>\n",
       "      <td>1.406922</td>\n",
       "      <td>1.383330</td>\n",
       "      <td>0.824847</td>\n",
       "      <td>0.715269</td>\n",
       "    </tr>\n",
       "    <tr>\n",
       "      <th>min</th>\n",
       "      <td>49.914430</td>\n",
       "      <td>-7.516225</td>\n",
       "      <td>1.000000</td>\n",
       "      <td>1.000000</td>\n",
       "    </tr>\n",
       "    <tr>\n",
       "      <th>25%</th>\n",
       "      <td>51.490690</td>\n",
       "      <td>-2.332291</td>\n",
       "      <td>1.000000</td>\n",
       "      <td>1.000000</td>\n",
       "    </tr>\n",
       "    <tr>\n",
       "      <th>50%</th>\n",
       "      <td>52.315641</td>\n",
       "      <td>-1.411667</td>\n",
       "      <td>1.000000</td>\n",
       "      <td>2.000000</td>\n",
       "    </tr>\n",
       "    <tr>\n",
       "      <th>75%</th>\n",
       "      <td>53.453452</td>\n",
       "      <td>-0.232869</td>\n",
       "      <td>1.000000</td>\n",
       "      <td>2.000000</td>\n",
       "    </tr>\n",
       "    <tr>\n",
       "      <th>max</th>\n",
       "      <td>60.757544</td>\n",
       "      <td>1.762010</td>\n",
       "      <td>68.000000</td>\n",
       "      <td>32.000000</td>\n",
       "    </tr>\n",
       "  </tbody>\n",
       "</table>\n",
       "</div>"
      ],
      "text/plain": [
       "            Latitude      Longitude  Number_of_Casualties  Number_of_Vehicles\n",
       "count  660654.000000  660653.000000         660679.000000       660679.000000\n",
       "mean       52.553866      -1.431210              1.357040            1.831255\n",
       "std         1.406922       1.383330              0.824847            0.715269\n",
       "min        49.914430      -7.516225              1.000000            1.000000\n",
       "25%        51.490690      -2.332291              1.000000            1.000000\n",
       "50%        52.315641      -1.411667              1.000000            2.000000\n",
       "75%        53.453452      -0.232869              1.000000            2.000000\n",
       "max        60.757544       1.762010             68.000000           32.000000"
      ]
     },
     "execution_count": 70,
     "metadata": {},
     "output_type": "execute_result"
    }
   ],
   "source": [
    "accident.describe()"
   ]
  },
  {
   "cell_type": "markdown",
   "id": "b739ac84-41c2-4088-8c85-2379370a4834",
   "metadata": {},
   "source": [
    "<h1>Check DataFrame Info</h1>"
   ]
  },
  {
   "cell_type": "code",
   "execution_count": 71,
   "id": "2e5f0990-d6f7-4e5f-8f9b-75c8941c2727",
   "metadata": {},
   "outputs": [
    {
     "name": "stdout",
     "output_type": "stream",
     "text": [
      "<class 'pandas.core.frame.DataFrame'>\n",
      "RangeIndex: 660679 entries, 0 to 660678\n",
      "Data columns (total 14 columns):\n",
      " #   Column                   Non-Null Count   Dtype  \n",
      "---  ------                   --------------   -----  \n",
      " 0   Index                    660679 non-null  object \n",
      " 1   Accident_Severity        660679 non-null  object \n",
      " 2   Accident Date            660679 non-null  object \n",
      " 3   Latitude                 660654 non-null  float64\n",
      " 4   Light_Conditions         660679 non-null  object \n",
      " 5   District Area            660679 non-null  object \n",
      " 6   Longitude                660653 non-null  float64\n",
      " 7   Number_of_Casualties     660679 non-null  int64  \n",
      " 8   Number_of_Vehicles       660679 non-null  int64  \n",
      " 9   Road_Surface_Conditions  659953 non-null  object \n",
      " 10  Road_Type                656159 non-null  object \n",
      " 11  Urban_or_Rural_Area      660664 non-null  object \n",
      " 12  Weather_Conditions       646551 non-null  object \n",
      " 13  Vehicle_Type             660679 non-null  object \n",
      "dtypes: float64(2), int64(2), object(10)\n",
      "memory usage: 70.6+ MB\n"
     ]
    }
   ],
   "source": [
    "accident.info()"
   ]
  },
  {
   "cell_type": "markdown",
   "id": "002e6ef9-5020-47cf-91b5-0a0bd3ffe911",
   "metadata": {},
   "source": [
    "<h1>Filling Up The Null Values</h1>"
   ]
  },
  {
   "cell_type": "code",
   "execution_count": 72,
   "id": "c27dd518-b4cd-4e3f-a918-d248c91f0cf6",
   "metadata": {},
   "outputs": [
    {
     "data": {
      "text/plain": [
       "Index                          0\n",
       "Accident_Severity              0\n",
       "Accident Date                  0\n",
       "Latitude                      25\n",
       "Light_Conditions               0\n",
       "District Area                  0\n",
       "Longitude                     26\n",
       "Number_of_Casualties           0\n",
       "Number_of_Vehicles             0\n",
       "Road_Surface_Conditions      726\n",
       "Road_Type                   4520\n",
       "Urban_or_Rural_Area           15\n",
       "Weather_Conditions         14128\n",
       "Vehicle_Type                   0\n",
       "dtype: int64"
      ]
     },
     "execution_count": 72,
     "metadata": {},
     "output_type": "execute_result"
    }
   ],
   "source": [
    "accident.isnull().sum()"
   ]
  },
  {
   "cell_type": "code",
   "execution_count": 73,
   "id": "71875927-71bc-42a7-bdeb-ccaf16996386",
   "metadata": {},
   "outputs": [
    {
     "data": {
      "text/plain": [
       "0         51.506187\n",
       "1         51.495029\n",
       "2         51.517715\n",
       "3         51.495478\n",
       "4         51.488576\n",
       "            ...    \n",
       "660674    57.374005\n",
       "660675    57.232273\n",
       "660676    57.585044\n",
       "660677    57.214898\n",
       "660678    57.575210\n",
       "Name: Latitude, Length: 660679, dtype: float64"
      ]
     },
     "execution_count": 73,
     "metadata": {},
     "output_type": "execute_result"
    }
   ],
   "source": [
    "accident['Latitude']"
   ]
  },
  {
   "cell_type": "code",
   "execution_count": 74,
   "id": "777db173-9dbc-4799-8550-9fa0134ebb70",
   "metadata": {},
   "outputs": [
    {
     "data": {
      "text/plain": [
       "np.float64(52.553865761110956)"
      ]
     },
     "execution_count": 74,
     "metadata": {},
     "output_type": "execute_result"
    }
   ],
   "source": [
    "accident['Latitude'].mean()"
   ]
  },
  {
   "cell_type": "code",
   "execution_count": 75,
   "id": "87a959c3-6f14-4db3-beca-65f97c7ccb40",
   "metadata": {},
   "outputs": [],
   "source": [
    "accident['Latitude'] = accident['Latitude'].fillna(accident['Latitude'].mean())"
   ]
  },
  {
   "cell_type": "code",
   "execution_count": 76,
   "id": "d8851151-8106-4e42-b24f-7a915fa57dd8",
   "metadata": {},
   "outputs": [
    {
     "data": {
      "text/plain": [
       "0        -0.209082\n",
       "1        -0.173647\n",
       "2        -0.210215\n",
       "3        -0.202731\n",
       "4        -0.192487\n",
       "            ...   \n",
       "660674   -3.467828\n",
       "660675   -3.809281\n",
       "660676   -3.862727\n",
       "660677   -3.823997\n",
       "660678   -3.895673\n",
       "Name: Longitude, Length: 660679, dtype: float64"
      ]
     },
     "execution_count": 76,
     "metadata": {},
     "output_type": "execute_result"
    }
   ],
   "source": [
    "accident['Longitude']"
   ]
  },
  {
   "cell_type": "code",
   "execution_count": 77,
   "id": "f9e66e9e-63ae-4669-be3a-0545478d17c7",
   "metadata": {},
   "outputs": [
    {
     "data": {
      "text/plain": [
       "np.float64(-1.4312103685020727)"
      ]
     },
     "execution_count": 77,
     "metadata": {},
     "output_type": "execute_result"
    }
   ],
   "source": [
    "accident['Longitude'].mean()"
   ]
  },
  {
   "cell_type": "code",
   "execution_count": 78,
   "id": "cff12afa-6c71-4b41-a8e2-f5838ad70fbf",
   "metadata": {},
   "outputs": [],
   "source": [
    "accident['Longitude'] = accident['Longitude'].fillna(accident['Longitude'].mean())"
   ]
  },
  {
   "cell_type": "code",
   "execution_count": 79,
   "id": "4b3f655b-ccc7-45de-9741-c242731803b3",
   "metadata": {},
   "outputs": [
    {
     "data": {
      "text/plain": [
       "0                  Dry\n",
       "1          Wet or damp\n",
       "2                  Dry\n",
       "3                  Dry\n",
       "4                  Dry\n",
       "              ...     \n",
       "660674             Dry\n",
       "660675    Frost or ice\n",
       "660676    Frost or ice\n",
       "660677     Wet or damp\n",
       "660678     Wet or damp\n",
       "Name: Road_Surface_Conditions, Length: 660679, dtype: object"
      ]
     },
     "execution_count": 79,
     "metadata": {},
     "output_type": "execute_result"
    }
   ],
   "source": [
    "accident['Road_Surface_Conditions']"
   ]
  },
  {
   "cell_type": "code",
   "execution_count": 80,
   "id": "2cb41411-a9d3-48a9-ad15-b493b1f69b89",
   "metadata": {},
   "outputs": [
    {
     "data": {
      "text/plain": [
       "0    Dry\n",
       "Name: Road_Surface_Conditions, dtype: object"
      ]
     },
     "execution_count": 80,
     "metadata": {},
     "output_type": "execute_result"
    }
   ],
   "source": [
    "accident['Road_Surface_Conditions'].mode()"
   ]
  },
  {
   "cell_type": "code",
   "execution_count": 81,
   "id": "edf17dbb-dabb-48ad-b802-73e8a9a79216",
   "metadata": {},
   "outputs": [],
   "source": [
    "accident['Road_Surface_Conditions'] = accident['Road_Surface_Conditions'].fillna(accident['Road_Surface_Conditions'].mode()[0])"
   ]
  },
  {
   "cell_type": "code",
   "execution_count": 82,
   "id": "c0b4cb2b-9a02-4f48-8455-af32861fd7da",
   "metadata": {},
   "outputs": [
    {
     "data": {
      "text/plain": [
       "0         Single carriageway\n",
       "1         Single carriageway\n",
       "2                        NaN\n",
       "3         Single carriageway\n",
       "4                        NaN\n",
       "                 ...        \n",
       "660674    Single carriageway\n",
       "660675    Single carriageway\n",
       "660676    Single carriageway\n",
       "660677    Single carriageway\n",
       "660678      Dual carriageway\n",
       "Name: Road_Type, Length: 660679, dtype: object"
      ]
     },
     "execution_count": 82,
     "metadata": {},
     "output_type": "execute_result"
    }
   ],
   "source": [
    "accident['Road_Type']"
   ]
  },
  {
   "cell_type": "code",
   "execution_count": 83,
   "id": "008ed3e0-f1fd-455e-826e-d97419762758",
   "metadata": {},
   "outputs": [
    {
     "data": {
      "text/plain": [
       "0    Single carriageway\n",
       "Name: Road_Type, dtype: object"
      ]
     },
     "execution_count": 83,
     "metadata": {},
     "output_type": "execute_result"
    }
   ],
   "source": [
    "accident['Road_Type'].mode()"
   ]
  },
  {
   "cell_type": "code",
   "execution_count": 84,
   "id": "ad52842a-786f-4132-a731-7d47abfac188",
   "metadata": {},
   "outputs": [],
   "source": [
    "accident['Road_Type'] = accident['Road_Type'].fillna(accident['Road_Type'].mode()[0])"
   ]
  },
  {
   "cell_type": "code",
   "execution_count": 85,
   "id": "2c3c3559-05c2-4f8f-b033-6e00f114e061",
   "metadata": {},
   "outputs": [
    {
     "data": {
      "text/plain": [
       "0         Urban\n",
       "1         Urban\n",
       "2         Urban\n",
       "3         Urban\n",
       "4         Urban\n",
       "          ...  \n",
       "660674    Rural\n",
       "660675    Rural\n",
       "660676    Rural\n",
       "660677    Rural\n",
       "660678    Rural\n",
       "Name: Urban_or_Rural_Area, Length: 660679, dtype: object"
      ]
     },
     "execution_count": 85,
     "metadata": {},
     "output_type": "execute_result"
    }
   ],
   "source": [
    "accident['Urban_or_Rural_Area']"
   ]
  },
  {
   "cell_type": "code",
   "execution_count": 86,
   "id": "d9bd3a7d-e3b8-40b2-9794-0caf550c0fd4",
   "metadata": {},
   "outputs": [
    {
     "data": {
      "text/plain": [
       "0    Urban\n",
       "Name: Urban_or_Rural_Area, dtype: object"
      ]
     },
     "execution_count": 86,
     "metadata": {},
     "output_type": "execute_result"
    }
   ],
   "source": [
    "accident['Urban_or_Rural_Area'].mode()"
   ]
  },
  {
   "cell_type": "code",
   "execution_count": 87,
   "id": "abde3fb9-e468-4fb0-a366-3e7cae570b3f",
   "metadata": {},
   "outputs": [],
   "source": [
    "accident['Urban_or_Rural_Area'] = accident['Urban_or_Rural_Area'].fillna(accident['Urban_or_Rural_Area'].mode()[0])"
   ]
  },
  {
   "cell_type": "code",
   "execution_count": 88,
   "id": "4a470db2-dc08-4cc7-b3da-eec2834df70b",
   "metadata": {},
   "outputs": [
    {
     "data": {
      "text/plain": [
       "0            Fine no high winds\n",
       "1         Raining no high winds\n",
       "2                           NaN\n",
       "3            Fine no high winds\n",
       "4                           NaN\n",
       "                  ...          \n",
       "660674       Fine no high winds\n",
       "660675       Fine no high winds\n",
       "660676       Fine no high winds\n",
       "660677       Fine no high winds\n",
       "660678    Snowing no high winds\n",
       "Name: Weather_Conditions, Length: 660679, dtype: object"
      ]
     },
     "execution_count": 88,
     "metadata": {},
     "output_type": "execute_result"
    }
   ],
   "source": [
    "accident['Weather_Conditions']"
   ]
  },
  {
   "cell_type": "code",
   "execution_count": 89,
   "id": "e6d3e72c-c0c5-4065-bd85-87efbd2d689b",
   "metadata": {},
   "outputs": [
    {
     "data": {
      "text/plain": [
       "0    Fine no high winds\n",
       "Name: Weather_Conditions, dtype: object"
      ]
     },
     "execution_count": 89,
     "metadata": {},
     "output_type": "execute_result"
    }
   ],
   "source": [
    "accident['Weather_Conditions'].mode()"
   ]
  },
  {
   "cell_type": "code",
   "execution_count": 90,
   "id": "7f63cf90-0267-4d10-a607-0adf107566c0",
   "metadata": {},
   "outputs": [],
   "source": [
    "accident['Weather_Conditions'] = accident['Weather_Conditions'].fillna(accident['Weather_Conditions'].mode()[0])"
   ]
  },
  {
   "cell_type": "code",
   "execution_count": 91,
   "id": "8cf0daa6-52f5-4204-9f2f-593a2d0e3e5e",
   "metadata": {},
   "outputs": [
    {
     "data": {
      "text/plain": [
       "Index                      0\n",
       "Accident_Severity          0\n",
       "Accident Date              0\n",
       "Latitude                   0\n",
       "Light_Conditions           0\n",
       "District Area              0\n",
       "Longitude                  0\n",
       "Number_of_Casualties       0\n",
       "Number_of_Vehicles         0\n",
       "Road_Surface_Conditions    0\n",
       "Road_Type                  0\n",
       "Urban_or_Rural_Area        0\n",
       "Weather_Conditions         0\n",
       "Vehicle_Type               0\n",
       "dtype: int64"
      ]
     },
     "execution_count": 91,
     "metadata": {},
     "output_type": "execute_result"
    }
   ],
   "source": [
    "accident.isnull().sum()"
   ]
  },
  {
   "cell_type": "markdown",
   "id": "a1cd610b-7287-45a2-8f87-05f2c4f944fd",
   "metadata": {},
   "source": [
    "<h1>Changing Dtypes</h1>"
   ]
  },
  {
   "cell_type": "code",
   "execution_count": 92,
   "id": "03500c23-e9a1-465f-92bd-c42b688415a7",
   "metadata": {},
   "outputs": [
    {
     "data": {
      "text/plain": [
       "Index                       object\n",
       "Accident_Severity           object\n",
       "Accident Date               object\n",
       "Latitude                   float64\n",
       "Light_Conditions            object\n",
       "District Area               object\n",
       "Longitude                  float64\n",
       "Number_of_Casualties         int64\n",
       "Number_of_Vehicles           int64\n",
       "Road_Surface_Conditions     object\n",
       "Road_Type                   object\n",
       "Urban_or_Rural_Area         object\n",
       "Weather_Conditions          object\n",
       "Vehicle_Type                object\n",
       "dtype: object"
      ]
     },
     "execution_count": 92,
     "metadata": {},
     "output_type": "execute_result"
    }
   ],
   "source": [
    "accident.dtypes"
   ]
  },
  {
   "cell_type": "code",
   "execution_count": 93,
   "id": "ce9cf958-8206-4d6e-96bf-8958bd689310",
   "metadata": {},
   "outputs": [],
   "source": [
    "accident['Index'] = accident['Index'].astype(\"category\")\n",
    "accident['Accident_Severity'] = accident['Accident_Severity'].astype(\"category\")\n",
    "accident['Accident Date'] = accident['Accident Date'].astype(\"category\")\n",
    "accident['Light_Conditions'] = accident['Light_Conditions'].astype(\"category\")\n",
    "accident['District Area'] = accident['District Area'].astype(\"category\")\n",
    "accident['Road_Surface_Conditions'] = accident['Road_Surface_Conditions'].astype(\"category\")\n",
    "accident['Road_Type'] = accident['Road_Type'].astype(\"category\")\n",
    "accident['Urban_or_Rural_Area'] = accident['Urban_or_Rural_Area'].astype(\"category\")\n",
    "accident['Weather_Conditions'] = accident['Weather_Conditions'].astype(\"category\")\n",
    "accident['Vehicle_Type'] = accident['Vehicle_Type'].astype(\"category\")"
   ]
  },
  {
   "cell_type": "code",
   "execution_count": 94,
   "id": "b13456e5-b46e-4be5-825b-0e7c69d879ae",
   "metadata": {},
   "outputs": [
    {
     "data": {
      "text/plain": [
       "Index                      category\n",
       "Accident_Severity          category\n",
       "Accident Date              category\n",
       "Latitude                    float64\n",
       "Light_Conditions           category\n",
       "District Area              category\n",
       "Longitude                   float64\n",
       "Number_of_Casualties          int64\n",
       "Number_of_Vehicles            int64\n",
       "Road_Surface_Conditions    category\n",
       "Road_Type                  category\n",
       "Urban_or_Rural_Area        category\n",
       "Weather_Conditions         category\n",
       "Vehicle_Type               category\n",
       "dtype: object"
      ]
     },
     "execution_count": 94,
     "metadata": {},
     "output_type": "execute_result"
    }
   ],
   "source": [
    "accident.dtypes"
   ]
  },
  {
   "cell_type": "markdown",
   "id": "94c7025b-7fcb-42dc-8d02-42c9596b2025",
   "metadata": {},
   "source": [
    "<h1>Exploratory Data Analytics</h1>"
   ]
  },
  {
   "cell_type": "code",
   "execution_count": 95,
   "id": "d48731e1-11a2-4154-8b03-bbbdf940bb04",
   "metadata": {},
   "outputs": [
    {
     "data": {
      "text/plain": [
       "Index(['Index', 'Accident_Severity', 'Accident Date', 'Latitude',\n",
       "       'Light_Conditions', 'District Area', 'Longitude',\n",
       "       'Number_of_Casualties', 'Number_of_Vehicles', 'Road_Surface_Conditions',\n",
       "       'Road_Type', 'Urban_or_Rural_Area', 'Weather_Conditions',\n",
       "       'Vehicle_Type'],\n",
       "      dtype='object')"
      ]
     },
     "execution_count": 95,
     "metadata": {},
     "output_type": "execute_result"
    }
   ],
   "source": [
    "accident.columns"
   ]
  },
  {
   "cell_type": "markdown",
   "id": "3d6236b4-c32a-4cef-abee-707fc50cffcd",
   "metadata": {},
   "source": [
    "## 1. What is the distribution of accident severity?"
   ]
  },
  {
   "cell_type": "code",
   "execution_count": 96,
   "id": "c33f3835-1693-45c3-a2ea-1f1d3c38b0c6",
   "metadata": {},
   "outputs": [
    {
     "data": {
      "text/plain": [
       "Accident_Severity\n",
       "Slight     563801\n",
       "Serious     88217\n",
       "Fatal        8661\n",
       "Name: count, dtype: int64"
      ]
     },
     "execution_count": 96,
     "metadata": {},
     "output_type": "execute_result"
    }
   ],
   "source": [
    "accident['Accident_Severity'].value_counts()"
   ]
  },
  {
   "cell_type": "markdown",
   "id": "9bfee8d6-84e5-4d3a-aa7a-275a1fba2bca",
   "metadata": {},
   "source": [
    "<h3>Insight: Most accidents are classified as Slight, while Serious and Fatal accidents are less frequent, showing that severe crashes are relatively rare.</h3>"
   ]
  },
  {
   "cell_type": "markdown",
   "id": "ea3ab401-fd3a-42c1-a144-7f58370f8cd8",
   "metadata": {},
   "source": [
    "### 2. What is the average number of casualties per accident severity?"
   ]
  },
  {
   "cell_type": "code",
   "execution_count": 97,
   "id": "2ce7b82f-3cb7-4059-9935-46fcf59cacce",
   "metadata": {},
   "outputs": [
    {
     "data": {
      "text/plain": [
       "Accident_Severity\n",
       "Fatal      1.903129\n",
       "Serious    1.467280\n",
       "Slight     1.331402\n",
       "Name: Number_of_Casualties, dtype: float64"
      ]
     },
     "execution_count": 97,
     "metadata": {},
     "output_type": "execute_result"
    }
   ],
   "source": [
    "accident.groupby('Accident_Severity')['Number_of_Casualties'].mean()"
   ]
  },
  {
   "cell_type": "markdown",
   "id": "3516f9c3-aea2-47b0-b812-c6987422d276",
   "metadata": {},
   "source": [
    "<h3>Insight: Fatal accidents, although less common, tend to result in more casualties per incident.</h3>"
   ]
  },
  {
   "cell_type": "markdown",
   "id": "edbba90a-cc1e-415a-ad7f-be5a48ccf42a",
   "metadata": {},
   "source": [
    "<h3>3. Do more accidents occur in urban or rural areas?</h3>"
   ]
  },
  {
   "cell_type": "code",
   "execution_count": 98,
   "id": "45452ddb-2b08-45e8-a52d-4294a09f6a8c",
   "metadata": {},
   "outputs": [
    {
     "data": {
      "text/plain": [
       "Urban_or_Rural_Area\n",
       "Urban          421678\n",
       "Rural          238990\n",
       "Unallocated        11\n",
       "Name: count, dtype: int64"
      ]
     },
     "execution_count": 98,
     "metadata": {},
     "output_type": "execute_result"
    }
   ],
   "source": [
    "accident['Urban_or_Rural_Area'].value_counts(dropna=False)"
   ]
  },
  {
   "cell_type": "markdown",
   "id": "db9e7cd9-06e5-42b7-af23-0552ced510aa",
   "metadata": {},
   "source": [
    "<h3>Insight: Urban areas usually record more accidents due to higher traffic density; Rural areas may have fewer crashes but at higher speeds, often more severe.</h3>"
   ]
  },
  {
   "cell_type": "markdown",
   "id": "f539c441-ea74-4555-99f1-e0a6df5ac21a",
   "metadata": {},
   "source": [
    "<h3>4. Which road types report the highest number of accidents?</h3>"
   ]
  },
  {
   "cell_type": "code",
   "execution_count": 99,
   "id": "483a6dca-19b2-4de8-9eae-1783b8f4a697",
   "metadata": {},
   "outputs": [
    {
     "data": {
      "text/plain": [
       "Road_Type\n",
       "Single carriageway    496663\n",
       "Dual carriageway       99424\n",
       "Roundabout             43992\n",
       "One way street         13559\n",
       "Slip road               7041\n",
       "Name: count, dtype: int64"
      ]
     },
     "execution_count": 99,
     "metadata": {},
     "output_type": "execute_result"
    }
   ],
   "source": [
    "accident['Road_Type'].value_counts(dropna=False).head(10)"
   ]
  },
  {
   "cell_type": "markdown",
   "id": "81988e5e-b853-44d2-9359-40f10c2833e6",
   "metadata": {},
   "source": [
    "<h3>Insight: Single carriageways often dominate counts, possibly because they carry mixed traffic without physical separation.</h3>"
   ]
  },
  {
   "cell_type": "markdown",
   "id": "9e801989-1aa5-497f-9e89-f6c80c9004e0",
   "metadata": {},
   "source": [
    "<h3>5. Which road surface condition has the highest accident rate?</h3>"
   ]
  },
  {
   "cell_type": "code",
   "execution_count": 100,
   "id": "3645ff68-8934-4e3c-9ba7-6cf38fe82aa0",
   "metadata": {},
   "outputs": [
    {
     "data": {
      "text/plain": [
       "Road_Surface_Conditions\n",
       "Dry                     448547\n",
       "Wet or damp             186708\n",
       "Frost or ice             18517\n",
       "Snow                      5890\n",
       "Flood over 3cm. deep      1017\n",
       "Name: count, dtype: int64"
      ]
     },
     "execution_count": 100,
     "metadata": {},
     "output_type": "execute_result"
    }
   ],
   "source": [
    "accident['Road_Surface_Conditions'].value_counts()"
   ]
  },
  {
   "cell_type": "markdown",
   "id": "66b096a0-812d-4b8f-8191-dd4a44a06e98",
   "metadata": {},
   "source": [
    "<h3>Insight: Dry roads show the highest accident count, likely because most travel occurs in dry conditions.</h3>"
   ]
  },
  {
   "cell_type": "markdown",
   "id": "6d399812-1eef-46d4-9a94-54b0caa78b70",
   "metadata": {},
   "source": [
    "<h3>6. Do most accidents occur in daylight or darkness?</h3>"
   ]
  },
  {
   "cell_type": "code",
   "execution_count": 101,
   "id": "04a31c25-beb9-4df9-bb23-ccb3d2b45537",
   "metadata": {},
   "outputs": [
    {
     "data": {
      "text/plain": [
       "Light_Conditions\n",
       "Daylight                       484880\n",
       "Darkness - lights lit          129335\n",
       "Darkness - no lighting          37437\n",
       "Darkness - lighting unknown      6484\n",
       "Darkness - lights unlit          2543\n",
       "Name: count, dtype: int64"
      ]
     },
     "execution_count": 101,
     "metadata": {},
     "output_type": "execute_result"
    }
   ],
   "source": [
    "accident['Light_Conditions'].value_counts()"
   ]
  },
  {
   "cell_type": "markdown",
   "id": "b6188370-dc06-44ac-b187-66b12ad19b79",
   "metadata": {},
   "source": [
    "<H3>Insight: Accidents are more frequent in daylight, but night crashes are often more severe.</H3>"
   ]
  },
  {
   "cell_type": "markdown",
   "id": "4d61eca4-8e4a-45f3-aad0-f2ee9ff2120b",
   "metadata": {},
   "source": [
    "<h3>7. Which light condition has the highest fatality rate?</h3>"
   ]
  },
  {
   "cell_type": "code",
   "execution_count": 102,
   "id": "2fac6faf-fafc-4ef9-b23d-445c11d27c41",
   "metadata": {},
   "outputs": [
    {
     "data": {
      "text/plain": [
       "Light_Conditions\n",
       "Daylight                       5076\n",
       "Darkness - lights lit          1860\n",
       "Darkness - no lighting         1612\n",
       "Darkness - lighting unknown      68\n",
       "Darkness - lights unlit          45\n",
       "Name: count, dtype: int64"
      ]
     },
     "execution_count": 102,
     "metadata": {},
     "output_type": "execute_result"
    }
   ],
   "source": [
    "accident[accident['Accident_Severity']=='Fatal']['Light_Conditions'].value_counts()"
   ]
  },
  {
   "cell_type": "markdown",
   "id": "20e184d6-dd93-4de4-8f63-81bf7ef65cf3",
   "metadata": {},
   "source": [
    "<h3>Insight: Darkness without streetlights shows a higher share of fatal accidents, highlighting visibility issues</h3>"
   ]
  },
  {
   "cell_type": "markdown",
   "id": "9836bf94-616a-469f-bd67-cc5b966f5e90",
   "metadata": {},
   "source": [
    "<h3>8. Which weather conditions are most common in accidents?</h3>"
   ]
  },
  {
   "cell_type": "code",
   "execution_count": 103,
   "id": "5c1a261e-e99d-405f-a5f8-0a57df9fadad",
   "metadata": {},
   "outputs": [
    {
     "data": {
      "text/plain": [
       "Weather_Conditions\n",
       "Fine no high winds       535013\n",
       "Raining no high winds     79696\n",
       "Other                     17150\n",
       "Raining + high winds       9615\n",
       "Fine + high winds          8554\n",
       "Snowing no high winds      6238\n",
       "Fog or mist                3528\n",
       "Snowing + high winds        885\n",
       "Name: count, dtype: int64"
      ]
     },
     "execution_count": 103,
     "metadata": {},
     "output_type": "execute_result"
    }
   ],
   "source": [
    "accident['Weather_Conditions'].value_counts().head(10)"
   ]
  },
  {
   "cell_type": "markdown",
   "id": "0a68ad70-6f8d-4f99-a095-69517cd1d39a",
   "metadata": {},
   "source": [
    "<h3>Insight: Fine weather accounts for the majority of accidents due to higher traffic, though bad weather raises accident severity.</h3>"
   ]
  },
  {
   "cell_type": "markdown",
   "id": "31ce752f-6ca6-4c40-95e6-cfb36549e03e",
   "metadata": {},
   "source": [
    "<h3>9. How does weather condition affect average casualties?</h3>"
   ]
  },
  {
   "cell_type": "code",
   "execution_count": 104,
   "id": "cb5b209b-4a0d-48eb-9c1d-1123dff6f681",
   "metadata": {},
   "outputs": [
    {
     "data": {
      "text/plain": [
       "Weather_Conditions\n",
       "Fine + high winds        1.386018\n",
       "Fine no high winds       1.347397\n",
       "Fog or mist              1.452948\n",
       "Other                    1.354869\n",
       "Raining + high winds     1.416641\n",
       "Raining no high winds    1.408214\n",
       "Snowing + high winds     1.418079\n",
       "Snowing no high winds    1.341776\n",
       "Name: Number_of_Casualties, dtype: float64"
      ]
     },
     "execution_count": 104,
     "metadata": {},
     "output_type": "execute_result"
    }
   ],
   "source": [
    "accident.groupby('Weather_Conditions')['Number_of_Casualties'].mean()"
   ]
  },
  {
   "cell_type": "markdown",
   "id": "0b51d756-1440-488f-94b5-61e2c3d60cf3",
   "metadata": {},
   "source": [
    "<h3>Insight: Fog or mist tends to have the highest average casualties per accident because of reduced visibility.</h3>"
   ]
  },
  {
   "cell_type": "markdown",
   "id": "59783553-025d-41d6-b230-657036942fe9",
   "metadata": {},
   "source": [
    "<h3>10. Which vehicle types are most often involved in accidents?</h3>"
   ]
  },
  {
   "cell_type": "code",
   "execution_count": 105,
   "id": "5781cf46-2b45-4cc9-8cbf-97794ac7cce7",
   "metadata": {},
   "outputs": [
    {
     "data": {
      "text/plain": [
       "Vehicle_Type\n",
       "Car                                      497992\n",
       "Van / Goods 3.5 tonnes mgw or under       34160\n",
       "Bus or coach (17 or more pass seats)      25878\n",
       "Motorcycle over 500cc                     25657\n",
       "Goods 7.5 tonnes mgw and over             17307\n",
       "Motorcycle 125cc and under                15269\n",
       "Taxi/Private hire car                     13294\n",
       "Motorcycle over 125cc and up to 500cc      7656\n",
       "Motorcycle 50cc and under                  7603\n",
       "Goods over 3.5t. and under 7.5t            6096\n",
       "Name: count, dtype: int64"
      ]
     },
     "execution_count": 105,
     "metadata": {},
     "output_type": "execute_result"
    }
   ],
   "source": [
    "accident['Vehicle_Type'].value_counts().head(10)"
   ]
  },
  {
   "cell_type": "markdown",
   "id": "3a7f2231-e685-4c2b-80fc-252b0ca5dbad",
   "metadata": {},
   "source": [
    "<h3>Insight: Cars dominate accident records, but motorcycles and bicycles are more vulnerable in serious crashes.</h3>"
   ]
  },
  {
   "cell_type": "markdown",
   "id": "cf2bdae4-5c6f-43e5-82ac-a9c4ef02536e",
   "metadata": {},
   "source": [
    "<h3>11. Which columns have the most missing data?</h3>"
   ]
  },
  {
   "cell_type": "code",
   "execution_count": 106,
   "id": "faf7f53a-a4c9-4456-a59a-16c99dd51675",
   "metadata": {},
   "outputs": [
    {
     "data": {
      "text/plain": [
       "Index                      0\n",
       "Accident_Severity          0\n",
       "Accident Date              0\n",
       "Latitude                   0\n",
       "Light_Conditions           0\n",
       "District Area              0\n",
       "Longitude                  0\n",
       "Number_of_Casualties       0\n",
       "Number_of_Vehicles         0\n",
       "Road_Surface_Conditions    0\n",
       "Road_Type                  0\n",
       "Urban_or_Rural_Area        0\n",
       "Weather_Conditions         0\n",
       "Vehicle_Type               0\n",
       "dtype: int64"
      ]
     },
     "execution_count": 106,
     "metadata": {},
     "output_type": "execute_result"
    }
   ],
   "source": [
    "accident.isnull().sum().sort_values(ascending=False)"
   ]
  },
  {
   "cell_type": "markdown",
   "id": "d057075a-4a22-4198-a36a-ae2d54ff8beb",
   "metadata": {},
   "source": [
    "<h3>Insight: Weather and road type fields have noticeable missing values, which can affect reliability of analysis.</h3>"
   ]
  },
  {
   "cell_type": "markdown",
   "id": "17d68b21-6d44-4ff5-a211-d6e42d215af8",
   "metadata": {},
   "source": [
    "<h3>12. Do fatal accidents occur more often in urban or rural areas?</h3>"
   ]
  },
  {
   "cell_type": "code",
   "execution_count": 107,
   "id": "958ce3f0-f8dc-4587-a4ee-4061f7a25183",
   "metadata": {},
   "outputs": [
    {
     "data": {
      "text/plain": [
       "Urban_or_Rural_Area\n",
       "Rural          5601\n",
       "Urban          3060\n",
       "Unallocated       0\n",
       "Name: count, dtype: int64"
      ]
     },
     "execution_count": 107,
     "metadata": {},
     "output_type": "execute_result"
    }
   ],
   "source": [
    "accident[accident['Accident_Severity']=='Fatal']['Urban_or_Rural_Area'].value_counts()"
   ]
  },
  {
   "cell_type": "markdown",
   "id": "2264d7f2-9675-4a92-8a8a-e135acad8b6c",
   "metadata": {},
   "source": [
    "<h3>Insight:Rural areas, though less frequent overall, often see more fatal outcomes due to high-speed crashes.</h3>"
   ]
  },
  {
   "cell_type": "markdown",
   "id": "feb0c4ff-2e2b-4532-bd6a-59e72d50e55c",
   "metadata": {},
   "source": [
    "<h3>13. Which vehicle types are most common in fatal accidents?</h3>"
   ]
  },
  {
   "cell_type": "code",
   "execution_count": 108,
   "id": "d0ef2bcf-4d1e-4135-81a9-d9068080aeff",
   "metadata": {},
   "outputs": [
    {
     "data": {
      "text/plain": [
       "Vehicle_Type\n",
       "Car                                      6577\n",
       "Van / Goods 3.5 tonnes mgw or under       467\n",
       "Motorcycle over 500cc                     339\n",
       "Bus or coach (17 or more pass seats)      325\n",
       "Goods 7.5 tonnes mgw and over             216\n",
       "Motorcycle 125cc and under                189\n",
       "Taxi/Private hire car                     155\n",
       "Motorcycle over 125cc and up to 500cc     105\n",
       "Motorcycle 50cc and under                  95\n",
       "Other vehicle                              70\n",
       "Name: count, dtype: int64"
      ]
     },
     "execution_count": 108,
     "metadata": {},
     "output_type": "execute_result"
    }
   ],
   "source": [
    "accident[accident['Accident_Severity']=='Fatal']['Vehicle_Type'].value_counts().head(10)"
   ]
  },
  {
   "cell_type": "markdown",
   "id": "324e09f8-a715-4485-a786-68410244dc54",
   "metadata": {},
   "source": [
    "<h3>Insight: Cars are most frequent, but motorcycles show disproportionately high fatality risks.</h3>"
   ]
  },
  {
   "cell_type": "markdown",
   "id": "22666ca2-2051-4c44-a411-075186a70ef8",
   "metadata": {},
   "source": [
    "<h3>14.  Which weather conditions are most common in fatal accidents?</h3>"
   ]
  },
  {
   "cell_type": "code",
   "execution_count": 109,
   "id": "1da1d0a6-8661-4815-af32-289508e105ec",
   "metadata": {},
   "outputs": [
    {
     "data": {
      "text/plain": [
       "Weather_Conditions\n",
       "Fine no high winds       7207\n",
       "Raining no high winds     848\n",
       "Fine + high winds         175\n",
       "Other                     165\n",
       "Raining + high winds      145\n",
       "Fog or mist                82\n",
       "Snowing no high winds      36\n",
       "Snowing + high winds        3\n",
       "Name: count, dtype: int64"
      ]
     },
     "execution_count": 109,
     "metadata": {},
     "output_type": "execute_result"
    }
   ],
   "source": [
    "accident[accident['Accident_Severity']=='Fatal']['Weather_Conditions'].value_counts().head(10)"
   ]
  },
  {
   "cell_type": "markdown",
   "id": "2a7db096-7719-4721-b358-82099ef5d60e",
   "metadata": {},
   "source": [
    "<h3>Insight: Fatal crashes are more frequent in clear weather, showing traffic exposure plays a large role.</h3>"
   ]
  },
  {
   "cell_type": "markdown",
   "id": "778c5819-e031-4e63-8ded-525f41b6aa86",
   "metadata": {},
   "source": [
    "<h3>15. Which district areas report the most accidents?</h3>"
   ]
  },
  {
   "cell_type": "code",
   "execution_count": 110,
   "id": "8df69586-6fe4-4a34-9b70-d0402ba5e1b9",
   "metadata": {},
   "outputs": [
    {
     "data": {
      "text/plain": [
       "District Area\n",
       "Birmingham          13491\n",
       "Leeds                8898\n",
       "Manchester           6720\n",
       "Bradford             6212\n",
       "Sheffield            5710\n",
       "Westminster          5706\n",
       "Liverpool            5587\n",
       "Glasgow City         4942\n",
       "Bristol, City of     4819\n",
       "Kirklees             4690\n",
       "Name: count, dtype: int64"
      ]
     },
     "execution_count": 110,
     "metadata": {},
     "output_type": "execute_result"
    }
   ],
   "source": [
    "accident['District Area'].value_counts().head(10)"
   ]
  },
  {
   "cell_type": "markdown",
   "id": "b3b488d7-57ae-42c4-961b-27ffde8d5c2b",
   "metadata": {},
   "source": [
    "<h3>Insight: Highly populated urban districts are hotspots for accidents.</h3>"
   ]
  },
  {
   "cell_type": "markdown",
   "id": "f9d7bb9b-fb59-4244-b967-4ed19a54163b",
   "metadata": {},
   "source": [
    "<h3>16. Which months record the highest number of accidents?</h3>"
   ]
  },
  {
   "cell_type": "code",
   "execution_count": 111,
   "id": "ed362f5b-3583-4e94-9d69-95993d862184",
   "metadata": {},
   "outputs": [
    {
     "data": {
      "text/plain": [
       "Month\n",
       "1.0     18252\n",
       "2.0     22264\n",
       "3.0     21824\n",
       "4.0     19787\n",
       "5.0     21723\n",
       "6.0     22196\n",
       "7.0     22939\n",
       "8.0     21106\n",
       "9.0     22558\n",
       "10.0    23962\n",
       "11.0    24240\n",
       "12.0    24156\n",
       "Name: count, dtype: int64"
      ]
     },
     "execution_count": 111,
     "metadata": {},
     "output_type": "execute_result"
    }
   ],
   "source": [
    "accident['Accident Date'] = pd.to_datetime(accident['Accident Date'], errors='coerce', dayfirst=True)\n",
    "accident['Month'] = accident['Accident Date'].dt.month\n",
    "accident['Month'].value_counts().sort_index()"
   ]
  },
  {
   "cell_type": "markdown",
   "id": "32293301-64b8-4d14-a1fd-a913eb693deb",
   "metadata": {},
   "source": [
    "<h3>Insight: Seasonal peaks in accidents may occur during summer holidays or winter weather conditions.</h3>"
   ]
  },
  {
   "cell_type": "markdown",
   "id": "0aa4b11f-77a4-4947-aaea-be3558ae097a",
   "metadata": {},
   "source": [
    "<h3>17. What is the distribution of casualties per accident?:</h3>"
   ]
  },
  {
   "cell_type": "code",
   "execution_count": 112,
   "id": "1573d346-d9bd-4bc5-9b79-204d457c054d",
   "metadata": {},
   "outputs": [
    {
     "data": {
      "text/plain": [
       "Number_of_Casualties\n",
       "1     504041\n",
       "2     107971\n",
       "3      30776\n",
       "4      11156\n",
       "5       4123\n",
       "6       1525\n",
       "7        539\n",
       "8        214\n",
       "9        112\n",
       "10        58\n",
       "11        36\n",
       "12        21\n",
       "13        24\n",
       "14        13\n",
       "15        11\n",
       "Name: count, dtype: int64"
      ]
     },
     "execution_count": 112,
     "metadata": {},
     "output_type": "execute_result"
    }
   ],
   "source": [
    "accident['Number_of_Casualties'].value_counts().sort_index().head(15)"
   ]
  },
  {
   "cell_type": "markdown",
   "id": "3f7c6103-8798-4334-8498-53fca1a1c5c8",
   "metadata": {},
   "source": [
    "<h3>Insight: The majority of accidents involve a single casualty, but some accidents cause multiple injuries.</h3>"
   ]
  },
  {
   "cell_type": "markdown",
   "id": "91c00bd7-557c-4892-aba2-17425f14d5bf",
   "metadata": {},
   "source": [
    "<h3>18. What is the distribution of the number of vehicles involved in accidents?</h3>"
   ]
  },
  {
   "cell_type": "code",
   "execution_count": 113,
   "id": "796a20c1-2b01-4628-9e5f-a7637dbf5719",
   "metadata": {},
   "outputs": [
    {
     "data": {
      "text/plain": [
       "Number_of_Vehicles\n",
       "1     200787\n",
       "2     391995\n",
       "3      52806\n",
       "4      11300\n",
       "5       2464\n",
       "6        758\n",
       "7        296\n",
       "8        147\n",
       "9         57\n",
       "10        27\n",
       "11        12\n",
       "12         7\n",
       "13         6\n",
       "14         9\n",
       "15         1\n",
       "16         4\n",
       "19         1\n",
       "28         1\n",
       "32         1\n",
       "Name: count, dtype: int64"
      ]
     },
     "execution_count": 113,
     "metadata": {},
     "output_type": "execute_result"
    }
   ],
   "source": [
    "accident['Number_of_Vehicles'].value_counts().sort_index()"
   ]
  },
  {
   "cell_type": "markdown",
   "id": "84eb897a-1c8e-47cd-bb5f-0686260235fc",
   "metadata": {},
   "source": [
    "<h3>Isight: Most accidents involve 2 vehicles, but multi-vehicle collisions lead to higher casualty counts.</h3>"
   ]
  },
  {
   "cell_type": "markdown",
   "id": "5249b398-f744-4c2e-a133-afd427b71d98",
   "metadata": {},
   "source": [
    "<h3>19. Do buses or cars result in more casualties per accident?</h3>"
   ]
  },
  {
   "cell_type": "code",
   "execution_count": 114,
   "id": "5bb3180e-7ee1-4091-9f78-fad5bec20092",
   "metadata": {},
   "outputs": [
    {
     "data": {
      "text/plain": [
       "Vehicle_Type\n",
       "Data missing or out of range            1.500000\n",
       "Pedal cycle                             1.370558\n",
       "Taxi/Private hire car                   1.368663\n",
       "Goods over 3.5t. and under 7.5t         1.362861\n",
       "Motorcycle over 500cc                   1.359434\n",
       "Car                                     1.358841\n",
       "Van / Goods 3.5 tonnes mgw or under     1.354537\n",
       "Goods 7.5 tonnes mgw and over           1.351881\n",
       "Bus or coach (17 or more pass seats)    1.349216\n",
       "Minibus (8 - 16 passenger seats)        1.345648\n",
       "Name: Number_of_Casualties, dtype: float64"
      ]
     },
     "execution_count": 114,
     "metadata": {},
     "output_type": "execute_result"
    }
   ],
   "source": [
    "accident.groupby('Vehicle_Type')['Number_of_Casualties'].mean().sort_values(ascending=False).head(10)"
   ]
  },
  {
   "cell_type": "markdown",
   "id": "65c56af2-ae70-41da-af33-e8750adc6be6",
   "metadata": {},
   "source": [
    "<h3>Insight: Buses tend to involve more casualties per accident because they carry multiple passengers.</h3>"
   ]
  },
  {
   "cell_type": "markdown",
   "id": "690f5ae8-a5c3-4786-9edc-921a1e820a88",
   "metadata": {},
   "source": [
    "<h3>20.  Which days of the week see the most accidents?</h3>"
   ]
  },
  {
   "cell_type": "code",
   "execution_count": 115,
   "id": "1a547aea-0247-43f3-aa1e-056c3de9b829",
   "metadata": {},
   "outputs": [
    {
     "data": {
      "text/plain": [
       "DayOfWeek\n",
       "Saturday     43164\n",
       "Wednesday    40037\n",
       "Friday       39822\n",
       "Thursday     39641\n",
       "Tuesday      38714\n",
       "Sunday       35065\n",
       "Monday       28564\n",
       "Name: count, dtype: int64"
      ]
     },
     "execution_count": 115,
     "metadata": {},
     "output_type": "execute_result"
    }
   ],
   "source": [
    "accident['DayOfWeek'] = accident['Accident Date'].dt.day_name()\n",
    "accident['DayOfWeek'].value_counts()"
   ]
  },
  {
   "cell_type": "markdown",
   "id": "3022a348-9c5a-460e-b779-1f1b166f6de8",
   "metadata": {},
   "source": [
    "<h3>Insight: Weekdays often show more accidents due to commuter traffic, while weekends may reflect leisure travel risks.</h3>"
   ]
  },
  {
   "cell_type": "markdown",
   "id": "5e709554-8d36-4fb3-bf52-69cebdcddb9c",
   "metadata": {},
   "source": [
    "<H3>21. Accident severity based on area of loacation(Rural or Urban)"
   ]
  },
  {
   "cell_type": "code",
   "execution_count": 116,
   "id": "90040d1b-1f71-4976-bd18-be515c21358d",
   "metadata": {},
   "outputs": [],
   "source": [
    "severity = accident.groupby(['Accident_Severity','Urban_or_Rural_Area']).size()"
   ]
  },
  {
   "cell_type": "code",
   "execution_count": 117,
   "id": "49fd8a65-5412-42c7-8fca-643b70180699",
   "metadata": {},
   "outputs": [
    {
     "data": {
      "text/html": [
       "<div>\n",
       "<style scoped>\n",
       "    .dataframe tbody tr th:only-of-type {\n",
       "        vertical-align: middle;\n",
       "    }\n",
       "\n",
       "    .dataframe tbody tr th {\n",
       "        vertical-align: top;\n",
       "    }\n",
       "\n",
       "    .dataframe thead th {\n",
       "        text-align: right;\n",
       "    }\n",
       "</style>\n",
       "<table border=\"1\" class=\"dataframe\">\n",
       "  <thead>\n",
       "    <tr style=\"text-align: right;\">\n",
       "      <th>Urban_or_Rural_Area</th>\n",
       "      <th>Rural</th>\n",
       "      <th>Unallocated</th>\n",
       "      <th>Urban</th>\n",
       "    </tr>\n",
       "    <tr>\n",
       "      <th>Accident_Severity</th>\n",
       "      <th></th>\n",
       "      <th></th>\n",
       "      <th></th>\n",
       "    </tr>\n",
       "  </thead>\n",
       "  <tbody>\n",
       "    <tr>\n",
       "      <th>Fatal</th>\n",
       "      <td>5601</td>\n",
       "      <td>0</td>\n",
       "      <td>3060</td>\n",
       "    </tr>\n",
       "    <tr>\n",
       "      <th>Serious</th>\n",
       "      <td>37312</td>\n",
       "      <td>1</td>\n",
       "      <td>50904</td>\n",
       "    </tr>\n",
       "    <tr>\n",
       "      <th>Slight</th>\n",
       "      <td>196077</td>\n",
       "      <td>10</td>\n",
       "      <td>367714</td>\n",
       "    </tr>\n",
       "  </tbody>\n",
       "</table>\n",
       "</div>"
      ],
      "text/plain": [
       "Urban_or_Rural_Area   Rural  Unallocated   Urban\n",
       "Accident_Severity                               \n",
       "Fatal                  5601            0    3060\n",
       "Serious               37312            1   50904\n",
       "Slight               196077           10  367714"
      ]
     },
     "execution_count": 117,
     "metadata": {},
     "output_type": "execute_result"
    }
   ],
   "source": [
    "severity.unstack()"
   ]
  },
  {
   "cell_type": "markdown",
   "id": "8732320d-b313-4501-b9f3-723e1783afe9",
   "metadata": {},
   "source": [
    "\n",
    "<h3>Insight: There are more fatal accidents in rural areas, serious and slight accidents on Urban areas</h3>"
   ]
  },
  {
   "cell_type": "markdown",
   "id": "74fd2be7-9d7a-4c03-a992-a39850460956",
   "metadata": {},
   "source": [
    "<H3>22. Accident severity based on vehicle type, what type of vehicle is likely to have a fatal accident?</H3>"
   ]
  },
  {
   "cell_type": "code",
   "execution_count": 118,
   "id": "c76052e4-b685-4e90-afef-30ad5a1a41a2",
   "metadata": {},
   "outputs": [],
   "source": [
    "severity2 = accident.groupby(['Accident_Severity','Vehicle_Type']).size()"
   ]
  },
  {
   "cell_type": "code",
   "execution_count": 119,
   "id": "f3fbb99a-656b-40f8-91a4-0a022da3c58a",
   "metadata": {},
   "outputs": [
    {
     "data": {
      "text/html": [
       "<div>\n",
       "<style scoped>\n",
       "    .dataframe tbody tr th:only-of-type {\n",
       "        vertical-align: middle;\n",
       "    }\n",
       "\n",
       "    .dataframe tbody tr th {\n",
       "        vertical-align: top;\n",
       "    }\n",
       "\n",
       "    .dataframe thead th {\n",
       "        text-align: right;\n",
       "    }\n",
       "</style>\n",
       "<table border=\"1\" class=\"dataframe\">\n",
       "  <thead>\n",
       "    <tr style=\"text-align: right;\">\n",
       "      <th>Vehicle_Type</th>\n",
       "      <th>Agricultural vehicle</th>\n",
       "      <th>Bus or coach (17 or more pass seats)</th>\n",
       "      <th>Car</th>\n",
       "      <th>Data missing or out of range</th>\n",
       "      <th>Goods 7.5 tonnes mgw and over</th>\n",
       "      <th>Goods over 3.5t. and under 7.5t</th>\n",
       "      <th>Minibus (8 - 16 passenger seats)</th>\n",
       "      <th>Motorcycle 125cc and under</th>\n",
       "      <th>Motorcycle 50cc and under</th>\n",
       "      <th>Motorcycle over 125cc and up to 500cc</th>\n",
       "      <th>Motorcycle over 500cc</th>\n",
       "      <th>Other vehicle</th>\n",
       "      <th>Pedal cycle</th>\n",
       "      <th>Ridden horse</th>\n",
       "      <th>Taxi/Private hire car</th>\n",
       "      <th>Van / Goods 3.5 tonnes mgw or under</th>\n",
       "    </tr>\n",
       "    <tr>\n",
       "      <th>Accident_Severity</th>\n",
       "      <th></th>\n",
       "      <th></th>\n",
       "      <th></th>\n",
       "      <th></th>\n",
       "      <th></th>\n",
       "      <th></th>\n",
       "      <th></th>\n",
       "      <th></th>\n",
       "      <th></th>\n",
       "      <th></th>\n",
       "      <th></th>\n",
       "      <th></th>\n",
       "      <th></th>\n",
       "      <th></th>\n",
       "      <th></th>\n",
       "      <th></th>\n",
       "    </tr>\n",
       "  </thead>\n",
       "  <tbody>\n",
       "    <tr>\n",
       "      <th>Fatal</th>\n",
       "      <td>21</td>\n",
       "      <td>325</td>\n",
       "      <td>6577</td>\n",
       "      <td>0</td>\n",
       "      <td>216</td>\n",
       "      <td>67</td>\n",
       "      <td>29</td>\n",
       "      <td>189</td>\n",
       "      <td>95</td>\n",
       "      <td>105</td>\n",
       "      <td>339</td>\n",
       "      <td>70</td>\n",
       "      <td>6</td>\n",
       "      <td>0</td>\n",
       "      <td>155</td>\n",
       "      <td>467</td>\n",
       "    </tr>\n",
       "    <tr>\n",
       "      <th>Serious</th>\n",
       "      <td>282</td>\n",
       "      <td>3373</td>\n",
       "      <td>66461</td>\n",
       "      <td>0</td>\n",
       "      <td>2321</td>\n",
       "      <td>857</td>\n",
       "      <td>276</td>\n",
       "      <td>2031</td>\n",
       "      <td>1014</td>\n",
       "      <td>1014</td>\n",
       "      <td>3457</td>\n",
       "      <td>767</td>\n",
       "      <td>39</td>\n",
       "      <td>0</td>\n",
       "      <td>1771</td>\n",
       "      <td>4554</td>\n",
       "    </tr>\n",
       "    <tr>\n",
       "      <th>Slight</th>\n",
       "      <td>1644</td>\n",
       "      <td>22180</td>\n",
       "      <td>424954</td>\n",
       "      <td>6</td>\n",
       "      <td>14770</td>\n",
       "      <td>5172</td>\n",
       "      <td>1671</td>\n",
       "      <td>13049</td>\n",
       "      <td>6494</td>\n",
       "      <td>6537</td>\n",
       "      <td>21861</td>\n",
       "      <td>4800</td>\n",
       "      <td>152</td>\n",
       "      <td>4</td>\n",
       "      <td>11368</td>\n",
       "      <td>29139</td>\n",
       "    </tr>\n",
       "  </tbody>\n",
       "</table>\n",
       "</div>"
      ],
      "text/plain": [
       "Vehicle_Type       Agricultural vehicle  Bus or coach (17 or more pass seats)  \\\n",
       "Accident_Severity                                                               \n",
       "Fatal                                21                                   325   \n",
       "Serious                             282                                  3373   \n",
       "Slight                             1644                                 22180   \n",
       "\n",
       "Vehicle_Type          Car  Data missing or out of range  \\\n",
       "Accident_Severity                                         \n",
       "Fatal                6577                             0   \n",
       "Serious             66461                             0   \n",
       "Slight             424954                             6   \n",
       "\n",
       "Vehicle_Type       Goods 7.5 tonnes mgw and over  \\\n",
       "Accident_Severity                                  \n",
       "Fatal                                        216   \n",
       "Serious                                     2321   \n",
       "Slight                                     14770   \n",
       "\n",
       "Vehicle_Type       Goods over 3.5t. and under 7.5t  \\\n",
       "Accident_Severity                                    \n",
       "Fatal                                           67   \n",
       "Serious                                        857   \n",
       "Slight                                        5172   \n",
       "\n",
       "Vehicle_Type       Minibus (8 - 16 passenger seats)  \\\n",
       "Accident_Severity                                     \n",
       "Fatal                                            29   \n",
       "Serious                                         276   \n",
       "Slight                                         1671   \n",
       "\n",
       "Vehicle_Type       Motorcycle 125cc and under  Motorcycle 50cc and under  \\\n",
       "Accident_Severity                                                          \n",
       "Fatal                                     189                         95   \n",
       "Serious                                  2031                       1014   \n",
       "Slight                                  13049                       6494   \n",
       "\n",
       "Vehicle_Type       Motorcycle over 125cc and up to 500cc  \\\n",
       "Accident_Severity                                          \n",
       "Fatal                                                105   \n",
       "Serious                                             1014   \n",
       "Slight                                              6537   \n",
       "\n",
       "Vehicle_Type       Motorcycle over 500cc  Other vehicle  Pedal cycle  \\\n",
       "Accident_Severity                                                      \n",
       "Fatal                                339             70            6   \n",
       "Serious                             3457            767           39   \n",
       "Slight                             21861           4800          152   \n",
       "\n",
       "Vehicle_Type       Ridden horse  Taxi/Private hire car  \\\n",
       "Accident_Severity                                        \n",
       "Fatal                         0                    155   \n",
       "Serious                       0                   1771   \n",
       "Slight                        4                  11368   \n",
       "\n",
       "Vehicle_Type       Van / Goods 3.5 tonnes mgw or under  \n",
       "Accident_Severity                                       \n",
       "Fatal                                              467  \n",
       "Serious                                           4554  \n",
       "Slight                                           29139  "
      ]
     },
     "execution_count": 119,
     "metadata": {},
     "output_type": "execute_result"
    }
   ],
   "source": [
    "severity2.unstack()"
   ]
  },
  {
   "cell_type": "markdown",
   "id": "f2ad4da0-8158-4c59-baec-891198248738",
   "metadata": {},
   "source": [
    "<h3>Insight: There is a high chance that cars can have fatal accidents, followed by motorcyles and vans</h3>"
   ]
  },
  {
   "cell_type": "markdown",
   "id": "dc73e15e-1b77-46df-982d-64a0888221e5",
   "metadata": {},
   "source": [
    "\n",
    "<H3>23. Number of accident severity</H3>"
   ]
  },
  {
   "cell_type": "code",
   "execution_count": 120,
   "id": "0a0fc155-dad4-4401-ac0b-0552c65422cc",
   "metadata": {},
   "outputs": [
    {
     "data": {
      "text/plain": [
       "Accident_Severity\n",
       "Slight     563801\n",
       "Serious     88217\n",
       "Fatal        8661\n",
       "Name: count, dtype: int64"
      ]
     },
     "execution_count": 120,
     "metadata": {},
     "output_type": "execute_result"
    }
   ],
   "source": [
    "accident['Accident_Severity'].value_counts()"
   ]
  },
  {
   "cell_type": "markdown",
   "id": "eefd6e50-632f-456b-97ce-6c0588f87895",
   "metadata": {},
   "source": [
    "\n",
    "\n",
    "<h3>Insight: Accident severity has the following values: Slight 563,801 Serious 88,217 Fatal 8,661 </h3>"
   ]
  },
  {
   "cell_type": "markdown",
   "id": "d46af3c3-5c51-4a02-937a-cb3503da4578",
   "metadata": {},
   "source": [
    "<H3>24. Most common roadtype accident?</H3>"
   ]
  },
  {
   "cell_type": "code",
   "execution_count": 121,
   "id": "4b6d806e-63e9-49d7-9a9b-4b7520a966fe",
   "metadata": {},
   "outputs": [
    {
     "data": {
      "text/plain": [
       "Road_Type\n",
       "Single carriageway    496663\n",
       "Dual carriageway       99424\n",
       "Roundabout             43992\n",
       "One way street         13559\n",
       "Slip road               7041\n",
       "Name: count, dtype: int64"
      ]
     },
     "execution_count": 121,
     "metadata": {},
     "output_type": "execute_result"
    }
   ],
   "source": [
    "accident['Road_Type'].value_counts()"
   ]
  },
  {
   "cell_type": "markdown",
   "id": "e585decd-a90e-4a9a-9a2e-021a0ce9b9d2",
   "metadata": {},
   "source": [
    "<h3>Insight: There have been 75.17% of accidents recorded in Single carriageway type of road</h3>"
   ]
  },
  {
   "cell_type": "markdown",
   "id": "36daeec2-f604-4f84-a2d0-010ad2dae161",
   "metadata": {},
   "source": [
    "<H3>25 Accident by weather condition?</H3>"
   ]
  },
  {
   "cell_type": "code",
   "execution_count": 163,
   "id": "2078d6fa-4c1c-4469-8a33-4c4f22b3fb8e",
   "metadata": {},
   "outputs": [
    {
     "data": {
      "text/plain": [
       "Weather_Conditions\n",
       "Fine no high winds       535013\n",
       "Raining no high winds     79696\n",
       "Other                     17150\n",
       "Raining + high winds       9615\n",
       "Fine + high winds          8554\n",
       "Snowing no high winds      6238\n",
       "Fog or mist                3528\n",
       "Snowing + high winds        885\n",
       "Name: count, dtype: int64"
      ]
     },
     "execution_count": 163,
     "metadata": {},
     "output_type": "execute_result"
    }
   ],
   "source": [
    "accident['Weather_Conditions'].value_counts()"
   ]
  },
  {
   "cell_type": "markdown",
   "id": "50504e44-c78d-46ff-aa26-a051d433a3b3",
   "metadata": {},
   "source": [
    "<h3>Insight: There have been 80.56% of accidents recorded in Fine no high winds type of weather condition</h3>"
   ]
  },
  {
   "cell_type": "markdown",
   "id": "53088a7e-9195-4d0e-bc0c-2d30c17aa46e",
   "metadata": {},
   "source": [
    "<h3>26.  How many accidents occur per year</h3>"
   ]
  },
  {
   "cell_type": "code",
   "execution_count": 164,
   "id": "d8c48187-ae4d-4104-af46-cb4a4f6f9598",
   "metadata": {},
   "outputs": [
    {
     "data": {
      "image/png": "[encoded data removed]",
      "text/plain": [
       "<Figure size 640x480 with 1 Axes>"
      ]
     },
     "metadata": {},
     "output_type": "display_data"
    }
   ],
   "source": [
    "accident['Year'] = accident['Accident Date'].dt.year\n",
    "accident['Year'].value_counts().sort_index().plot(kind='bar', color='skyblue', edgecolor='black')\n",
    "plt.title(\"Accidents by Year\")\n",
    "plt.xlabel(\"Year\")\n",
    "plt.ylabel(\"Number of Accidents\")\n",
    "plt.show()"
   ]
  },
  {
   "cell_type": "markdown",
   "id": "c7c57e21-ab45-4615-9531-24a0c57defb6",
   "metadata": {},
   "source": [
    "<h3>Insight: Accident numbers fluctuate slightly per year, but there is no extreme increase or decrease, showing that road safety issues are consistent over time.\n",
    "</h3>"
   ]
  },
  {
   "cell_type": "markdown",
   "id": "ce0ae28d-9e48-4ea1-a323-0d48b7e2d0f4",
   "metadata": {},
   "source": [
    "<h3>27.Which vehicle types are most involved in accidents?</h3>"
   ]
  },
  {
   "cell_type": "code",
   "execution_count": 165,
   "id": "eb33f7a2-218e-4357-9fd5-df8aab4b2941",
   "metadata": {},
   "outputs": [
    {
     "data": {
      "image/png": "[encoded data removed]",
      "text/plain": [
       "<Figure size 640x480 with 1 Axes>"
      ]
     },
     "metadata": {},
     "output_type": "display_data"
    }
   ],
   "source": [
    "accident['Vehicle_Type'].value_counts().plot(kind='bar', color='teal', edgecolor='black')\n",
    "plt.title(\"Accidents by Vehicle Type\")\n",
    "plt.xlabel(\"Vehicle Type\")\n",
    "plt.ylabel(\"Number of Accidents\")\n",
    "plt.show()\n",
    "\n"
   ]
  },
  {
   "cell_type": "markdown",
   "id": "1e3e2b9b-d117-472d-8eb1-fb467c82aa6a",
   "metadata": {},
   "source": [
    "<h3>Insight: Cars are the most involved in accidents, which makes sense because they are the most common mode of transport.</h3>"
   ]
  },
  {
   "cell_type": "markdown",
   "id": "60221fb0-bd90-477a-ba3f-c20499f66e82",
   "metadata": {},
   "source": [
    "<h3>28. What type of roads record the most accidents?</h3>"
   ]
  },
  {
   "cell_type": "code",
   "execution_count": 166,
   "id": "9b4c2ec8-ee3d-4fdf-8d32-60e859000265",
   "metadata": {},
   "outputs": [
    {
     "data": {
      "image/png": "[encoded data removed]",
      "text/plain": [
       "<Figure size 640x480 with 1 Axes>"
      ]
     },
     "metadata": {},
     "output_type": "display_data"
    }
   ],
   "source": [
    "accident['Road_Type'].value_counts().plot(kind='barh', color='purple', edgecolor='black')\n",
    "plt.title(\"Accidents by Road Type\")\n",
    "plt.xlabel(\"Number of Accidents\")\n",
    "plt.ylabel(\"Road Type\")\n",
    "plt.show()"
   ]
  },
  {
   "cell_type": "markdown",
   "id": "19b151de-a130-47bc-8ea6-3b418ae639fb",
   "metadata": {},
   "source": [
    "<h3>Insight: Single carriageway roads have the most accidents, probably because they are the most common type of road.</h3>"
   ]
  },
  {
   "cell_type": "markdown",
   "id": "0aa02660-588c-4071-9944-30185ecb3c48",
   "metadata": {},
   "source": [
    "<h3>29. How many accidents occur per year?</h3>"
   ]
  },
  {
   "cell_type": "code",
   "execution_count": 167,
   "id": "39a7b82f-6f21-4a42-99f9-360630811efe",
   "metadata": {},
   "outputs": [
    {
     "data": {
      "image/png": "[encoded data removed]",
      "text/plain": [
       "<Figure size 640x480 with 1 Axes>"
      ]
     },
     "metadata": {},
     "output_type": "display_data"
    }
   ],
   "source": [
    "accident['Year'].value_counts().sort_index().plot(kind='line', marker='o', color='green')\n",
    "plt.title(\"Accidents by Year\")\n",
    "plt.xlabel(\"Year\")\n",
    "plt.ylabel(\"Number of Accidents\")\n",
    "plt.show()"
   ]
  },
  {
   "cell_type": "markdown",
   "id": "4f61e0ad-bf94-478b-8fb9-525393d795aa",
   "metadata": {},
   "source": [
    "<h3>Insight: Accident numbers change slightly year by year but remain relatively steady, showing road safety issues are consistent.</h3>"
   ]
  },
  {
   "cell_type": "markdown",
   "id": "efacc3ee-3f07-4fba-a9e3-c044fc229cd0",
   "metadata": {},
   "source": [
    "<h3>30. How does weather affect accidents?</h3>"
   ]
  },
  {
   "cell_type": "code",
   "execution_count": 168,
   "id": "2f5cfcc0-7d81-4032-8280-827cb495786a",
   "metadata": {},
   "outputs": [
    {
     "data": {
      "image/png": "[encoded data removed]",
      "text/plain": [
       "<Figure size 600x600 with 1 Axes>"
      ]
     },
     "metadata": {},
     "output_type": "display_data"
    }
   ],
   "source": [
    "accident['Weather_Conditions'].value_counts().plot(kind='pie', autopct='%1.1f%%', figsize=(6,6))\n",
    "plt.title(\"Accidents by Weather Conditions\")\n",
    "plt.ylabel(\"\")\n",
    "plt.show()"
   ]
  },
  {
   "cell_type": "markdown",
   "id": "35234c58-41c3-4cb1-a01b-46b9f555e8f2",
   "metadata": {},
   "source": [
    "<h3>Insight: Most accidents occur in fine weather, meaning that accidents are not only caused by bad weather but also by driver behavior and traffic.</h3>"
   ]
  },
  {
   "cell_type": "markdown",
   "id": "c64e0aa1-2549-49ad-a070-7bf0875cca88",
   "metadata": {},
   "source": [
    "<h3>31. What is the distribution of accident severity?</h3>"
   ]
  },
  {
   "cell_type": "code",
   "execution_count": 169,
   "id": "c082a0a3-f12f-447f-b835-3bb1def01332",
   "metadata": {},
   "outputs": [
    {
     "data": {
      "image/png": "[encoded data removed]",
      "text/plain": [
       "<Figure size 500x500 with 1 Axes>"
      ]
     },
     "metadata": {},
     "output_type": "display_data"
    }
   ],
   "source": [
    "accident['Accident_Severity'].value_counts().plot(kind='pie', autopct='%1.1f%%', figsize=(5,5), colors=['lightblue','orange','red'])\n",
    "plt.title(\"Distribution of Accident Severity\")\n",
    "plt.ylabel(\"\")\n",
    "plt.show()"
   ]
  },
  {
   "cell_type": "markdown",
   "id": "493159fd-5741-4271-91e8-2ee7289c416a",
   "metadata": {},
   "source": [
    "<h3>Insight: Most accidents are slight, followed by serious accidents, while fatal cases are rare.</h3>"
   ]
  },
  {
   "cell_type": "code",
   "execution_count": null,
   "id": "b55e770f-afc7-4202-aab3-3a6e34a13993",
   "metadata": {},
   "outputs": [],
   "source": []
  },
  {
   "cell_type": "code",
   "execution_count": null,
   "id": "5a8b015c-5eea-4566-bb93-f16959d49f8c",
   "metadata": {},
   "outputs": [],
   "source": []
  },
  {
   "cell_type": "code",
   "execution_count": null,
   "id": "bdc7f0ff-3b2f-4209-b006-498c7553edf6",
   "metadata": {},
   "outputs": [],
   "source": []
  }
 ],
 "metadata": {
  "kernelspec": {
   "display_name": "Python 3 (ipykernel)",
   "language": "python",
   "name": "python3"
  },
  "language_info": {
   "codemirror_mode": {
    "name": "ipython",
    "version": 3
   },
   "file_extension": ".py",
   "mimetype": "text/x-python",
   "name": "python",
   "nbconvert_exporter": "python",
   "pygments_lexer": "ipython3",
   "version": "3.13.2"
  }
 },
 "nbformat": 4,
 "nbformat_minor": 5
}
